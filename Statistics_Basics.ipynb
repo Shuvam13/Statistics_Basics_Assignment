{
  "nbformat": 4,
  "nbformat_minor": 0,
  "metadata": {
    "colab": {
      "provenance": []
    },
    "kernelspec": {
      "name": "python3",
      "display_name": "Python 3"
    },
    "language_info": {
      "name": "python"
    }
  },
  "cells": [
    {
      "cell_type": "markdown",
      "source": [
        "#ASSIGNMENT"
      ],
      "metadata": {
        "id": "NeuQsyf7Vopq"
      }
    },
    {
      "cell_type": "markdown",
      "source": [
        "1. What is the difference between descriptive statistics and inferential\n",
        "statistics? Explain with examples.\n",
        "   - Descriptive statistics and inferential statistics are two main branches of statistics used to analyze data. Here's a breakdown of their differences with examples:\n",
        "     - Descriptive statistics are used to summarize and describe the main features of a dataset.\n",
        "     - Purpose is to describe the characteristics of a sample or population.\n",
        "     - Methods are Calculating measures of central tendency (mean, median, mode), measures of dispersion (range, variance, standard deviation), and creating visualizations (histograms, bar charts, box plots).\n",
        "     - Goal is to present data in a meaningful way that allows for easy understanding.\n",
        "     - Examples:\n",
        "       - Calculating the average height of students in a class.\n",
        "       - Determining the most frequent color of cars in a parking lot.\n",
        "       - Creating a histogram to show the distribution of test scores.\n",
        "   - Inferential statistics are used to make inferences or predictions about a population based on a sample of data taken from that population.\n",
        "     - Purpose is to make generalizations and draw conclusions about a population based on a sample.\n",
        "     - Methods are Hypothesis testing, confidence intervals, regression analysis, ANOVA, t-tests, z-tests.\n",
        "     - Goal is to test hypotheses, estimate population parameters, and make predictions or decisions about the population.\n",
        "     - Examples:\n",
        "       - Using the average height of a sample of students to estimate the average height of all students in a school.\n",
        "       - Using regression analysis to predict future sales based on past sales data.\n",
        "       - Testing if there is a significant difference in test scores between two different teaching methods using a t-test.\n",
        "\n",
        "2. What is sampling in statistics? Explain the differences between random\n",
        "and stratified sampling.\n",
        "   - Sampling in statistics is the process of selecting a subset of individuals or items from a larger population to gather data and make inferences about the entire population.\n",
        "   - Differences Between Random Sampling and Stratified Sampling:\n",
        "     - In simple random sampling, every member of the population has an equal chance of being selected for the sample.\n",
        "     - A list of all members of the population is created, and then a random method is used to select individuals from that list in Random Sampling.\n",
        "     -  It's simple to understand and implement, and it helps minimize sampling bias. Each member has an equal opportunity to be chosen in Random Sampling.\n",
        "     -  It may not always produce a sample that is perfectly representative of the population, especially if the population has distinct subgroups in Random Sampling.\n",
        "     - Stratified sampling involves dividing the population into smaller subgroups (called strata) based on shared characteristics, and then selecting a random sample from each subgroup.\n",
        "     - The population is divided into strata based on relevant characteristics (e.g., age, gender, income level, geographical location) in Stratified Sampling.\n",
        "     - It reduces sampling error within each stratum in Stratified Sampling.\n",
        "     - It can be more complex to implement than simple Random Sampling in Stratified Sampling.\n",
        "\n",
        "3. Define mean, median, and mode. Explain why these measures of central\n",
        "tendency are important.\n",
        "   - Mean: The mean is the average of all the values in a dataset. It is calculated by summing all the values and dividing by the number of values.\n",
        "   - Median: The median is the middle value in a dataset that has been ordered from least to greatest. If there is an even number of values, the median is the average of the two middle values.\n",
        "   - Mode: The mode is the value that appears most frequently in a dataset.\n",
        "\n",
        "   - These measures are important because they provide a single, representative value that summarizes a large amount of data. They help us:\n",
        "     - They give us an idea of what a \"normal\" or \"average\" observation looks like in the dataset.\n",
        "     - We can compare the central tendency of different datasets to see how they differ.\n",
        "     - They can help us identify patterns and trends in the data.\n",
        "\n",
        "4. Explain skewness and kurtosis. What does a positive skew imply about the\n",
        "data?\n",
        "   - Skewness is a measure of the asymmetry of the probability distribution of a real-valued random variable about its mean.\n",
        "   - Kurtosis is a measure of the \"tailedness\" of the probability distribution of a real-valued random variable.\n",
        "   - A positive skew implies the following:\n",
        "     - A positive skew implies that the data is concentrated towards the lower end of the scale, with a smaller number of observations having high values.\n",
        "     - In a positively skewed distribution, the mode is typically less than the median, which is less than the mean (Mode < Median < Mean).\n",
        "     - The mean is pulled towards the higher values by the extreme observations in the right tail.\n",
        "\n"
      ],
      "metadata": {
        "id": "W-b5LHrYV3Zp"
      }
    },
    {
      "cell_type": "markdown",
      "source": [
        "5. Implement a Python program to compute the mean, median, and mode of\n",
        "a given list of numbers.\n",
        "\n",
        "     numbers = [12, 15, 12, 18, 19, 12, 20, 22, 19, 19, 24, 24, 24, 26, 28]"
      ],
      "metadata": {
        "id": "Fjowb9EeeksR"
      }
    },
    {
      "cell_type": "code",
      "metadata": {
        "colab": {
          "base_uri": "https://localhost:8080/"
        },
        "id": "a3109dd8",
        "outputId": "704f39cf-5acd-4a38-ffdd-ec319fa1b44a"
      },
      "source": [
        "import statistics\n",
        "from collections import Counter\n",
        "\n",
        "numbers = [12, 15, 12, 18, 19, 12, 20, 22, 19, 19, 24, 24, 24, 26, 28]\n",
        "\n",
        "mean_value = statistics.mean(numbers)\n",
        "print(f\"Mean: {mean_value}\")\n",
        "\n",
        "median_value = statistics.median(numbers)\n",
        "print(f\"Median: {median_value}\")\n",
        "\n",
        "try:\n",
        "    mode_value = statistics.mode(numbers)\n",
        "    print(f\"Mode: {mode_value}\")\n",
        "except statistics.StatisticsError:\n",
        "    counts = Counter(numbers)\n",
        "    max_freq = max(counts.values())\n",
        "    modes = [num for num, freq in counts.items() if freq == max_freq]\n",
        "    if len(modes) == len(numbers):\n",
        "        print(\"No mode (all values appear once)\")\n",
        "    else:\n",
        "        print(f\"Modes: {modes}\")"
      ],
      "execution_count": 2,
      "outputs": [
        {
          "output_type": "stream",
          "name": "stdout",
          "text": [
            "Mean: 19.6\n",
            "Median: 19\n",
            "Mode: 12\n"
          ]
        }
      ]
    },
    {
      "cell_type": "markdown",
      "source": [
        "6. Compute the covariance and correlation coefficient between the following\n",
        "two datasets provided as lists in Python:\n",
        "\n",
        "   list_x = [10, 20, 30, 40, 50]\n",
        "\n",
        "   list_y = [15, 25, 35, 45, 60]"
      ],
      "metadata": {
        "id": "UO4GrBETfD46"
      }
    },
    {
      "cell_type": "code",
      "metadata": {
        "colab": {
          "base_uri": "https://localhost:8080/"
        },
        "id": "822f9522",
        "outputId": "be79bbc1-1087-4485-d466-05d08e89518a"
      },
      "source": [
        "import numpy as np\n",
        "\n",
        "list_x = [10, 20, 30, 40, 50]\n",
        "list_y = [15, 25, 35, 45, 60]\n",
        "\n",
        "array_x = np.array(list_x)\n",
        "array_y = np.array(list_y)\n",
        "\n",
        "covariance_matrix = np.cov(array_x, array_y)\n",
        "covariance = covariance_matrix[0, 1]\n",
        "\n",
        "print(f\"Covariance: {covariance}\")\n",
        "\n",
        "correlation_coefficient = np.corrcoef(array_x, array_y)[0, 1]\n",
        "\n",
        "print(f\"Correlation coefficient: {correlation_coefficient}\")"
      ],
      "execution_count": 4,
      "outputs": [
        {
          "output_type": "stream",
          "name": "stdout",
          "text": [
            "Covariance: 275.0\n",
            "Correlation coefficient: 0.995893206467704\n"
          ]
        }
      ]
    },
    {
      "cell_type": "markdown",
      "source": [
        "7. Write a Python script to draw a boxplot for the following numeric list and\n",
        "identify its outliers. Explain the result:\n",
        "\n",
        "     data = [12, 14, 14, 15, 18, 19, 19, 21, 22, 22, 23, 23, 24, 26, 29, 35]"
      ],
      "metadata": {
        "id": "SvhMCbkPfYph"
      }
    },
    {
      "cell_type": "markdown",
      "metadata": {
        "id": "fe513df5"
      },
      "source": [
        "**Reasoning**:\n",
        "The subtask is to create a boxplot for the given data. I will use seaborn and matplotlib to generate the boxplot as instructed.\n",
        "\n"
      ]
    },
    {
      "cell_type": "code",
      "metadata": {
        "colab": {
          "base_uri": "https://localhost:8080/",
          "height": 680
        },
        "id": "fa48c7b8",
        "outputId": "64522f02-731c-48c3-c103-72e4530aa4b4"
      },
      "source": [
        "import matplotlib.pyplot as plt\n",
        "import seaborn as sns\n",
        "\n",
        "data = [12, 14, 14, 15, 18, 19, 19, 21, 22, 22, 23, 23, 24, 26, 29, 35]\n",
        "\n",
        "plt.figure(figsize=(6, 8))\n",
        "sns.boxplot(y=data)\n",
        "plt.title('Boxplot of Data')\n",
        "plt.ylabel('Values')\n",
        "plt.show()"
      ],
      "execution_count": 5,
      "outputs": [
        {
          "output_type": "display_data",
          "data": {
            "text/plain": [
              "<Figure size 600x800 with 1 Axes>"
            ],
            "image/png": "[encoded data removed]"
          },
          "metadata": {}
        }
      ]
    },
    {
      "cell_type": "markdown",
      "metadata": {
        "id": "55912b59"
      },
      "source": [
        "## Identify outliers\n",
        "Write code to identify the outliers in the data using the Interquartile Range (IQR) method.\n"
      ]
    },
    {
      "cell_type": "markdown",
      "metadata": {
        "id": "12256971"
      },
      "source": [
        "**Reasoning**:\n",
        "Calculate Q1, Q3, IQR, lower bound, upper bound, and identify outliers using the provided data list.\n",
        "\n"
      ]
    },
    {
      "cell_type": "code",
      "metadata": {
        "colab": {
          "base_uri": "https://localhost:8080/"
        },
        "id": "6af08cd7",
        "outputId": "6b93caca-7bde-47de-9557-7c54bb8f78ff"
      },
      "source": [
        "import numpy as np\n",
        "\n",
        "data = [12, 14, 14, 15, 18, 19, 19, 21, 22, 22, 23, 23, 24, 26, 29, 35]\n",
        "\n",
        "Q1 = np.percentile(data, 25)\n",
        "Q3 = np.percentile(data, 75)\n",
        "IQR = Q3 - Q1\n",
        "\n",
        "lower_bound = Q1 - 1.5 * IQR\n",
        "upper_bound = Q3 + 1.5 * IQR\n",
        "\n",
        "outliers = [x for x in data if x < lower_bound or x > upper_bound]\n",
        "\n",
        "print(f\"Q1: {Q1}\")\n",
        "print(f\"Q3: {Q3}\")\n",
        "print(f\"IQR: {IQR}\")\n",
        "print(f\"Lower Bound: {lower_bound}\")\n",
        "print(f\"Upper Bound: {upper_bound}\")\n",
        "print(f\"Identified Outliers: {outliers}\")"
      ],
      "execution_count": 6,
      "outputs": [
        {
          "output_type": "stream",
          "name": "stdout",
          "text": [
            "Q1: 17.25\n",
            "Q3: 23.25\n",
            "IQR: 6.0\n",
            "Lower Bound: 8.25\n",
            "Upper Bound: 32.25\n",
            "Identified Outliers: [35]\n"
          ]
        }
      ]
    },
    {
      "cell_type": "markdown",
      "metadata": {
        "id": "95c4ef39"
      },
      "source": [
        "**Reasoning**:\n",
        "Provide an explanation of the boxplot, how the outliers were identified, and what the identified outliers mean in the context of the data based on the previous code execution.\n",
        "\n"
      ]
    },
    {
      "cell_type": "code",
      "metadata": {
        "colab": {
          "base_uri": "https://localhost:8080/"
        },
        "id": "cefd5c3b",
        "outputId": "65b861e2-043b-4f05-9292-6ba7079ef6ce"
      },
      "source": [
        "print(\"Explanation of the Boxplot and Outliers:\")\n",
        "print(\"\\nBoxplot Interpretation:\")\n",
        "print(\"The boxplot visually represents the distribution of the data.\")\n",
        "print(\"- The box itself spans from the first quartile (Q1) to the third quartile (Q3), representing the interquartile range (IQR), which contains the middle 50% of the data.\")\n",
        "print(\"- The line inside the box indicates the median (Q2), which is the middle value of the dataset.\")\n",
        "print(\"- The whiskers extend from the edges of the box to the minimum and maximum values within 1.5 times the IQR from the box edges. These are the non-outlier ranges.\")\n",
        "\n",
        "print(\"\\nOutlier Identification using IQR:\")\n",
        "print(\"Outliers were identified using the Interquartile Range (IQR) method.\")\n",
        "print(f\"- Q1 (25th percentile): {Q1}\")\n",
        "print(f\"- Q3 (75th percentile): {Q3}\")\n",
        "print(f\"- IQR (Q3 - Q1): {IQR}\")\n",
        "print(f\"- Lower Bound: Q1 - 1.5 * IQR = {lower_bound}\")\n",
        "print(f\"- Upper Bound: Q3 + 1.5 * IQR = {upper_bound}\")\n",
        "print(\"Data points falling below the lower bound or above the upper bound are considered outliers.\")\n",
        "\n",
        "print(\"\\nMeaning of Identified Outliers:\")\n",
        "print(f\"The identified outlier(s) in this dataset is/are: {outliers}\")\n",
        "print(\"This means that these values are significantly different from the majority of the data points.\")\n",
        "print(\"In the context of this dataset, the value 35 is considerably higher than the other values, suggesting it could be an unusual observation, a measurement error, or a data point from a different distribution.\")"
      ],
      "execution_count": 7,
      "outputs": [
        {
          "output_type": "stream",
          "name": "stdout",
          "text": [
            "Explanation of the Boxplot and Outliers:\n",
            "\n",
            "Boxplot Interpretation:\n",
            "The boxplot visually represents the distribution of the data.\n",
            "- The box itself spans from the first quartile (Q1) to the third quartile (Q3), representing the interquartile range (IQR), which contains the middle 50% of the data.\n",
            "- The line inside the box indicates the median (Q2), which is the middle value of the dataset.\n",
            "- The whiskers extend from the edges of the box to the minimum and maximum values within 1.5 times the IQR from the box edges. These are the non-outlier ranges.\n",
            "\n",
            "Outlier Identification using IQR:\n",
            "Outliers were identified using the Interquartile Range (IQR) method.\n",
            "- Q1 (25th percentile): 17.25\n",
            "- Q3 (75th percentile): 23.25\n",
            "- IQR (Q3 - Q1): 6.0\n",
            "- Lower Bound: Q1 - 1.5 * IQR = 8.25\n",
            "- Upper Bound: Q3 + 1.5 * IQR = 32.25\n",
            "Data points falling below the lower bound or above the upper bound are considered outliers.\n",
            "\n",
            "Meaning of Identified Outliers:\n",
            "The identified outlier(s) in this dataset is/are: [35]\n",
            "This means that these values are significantly different from the majority of the data points.\n",
            "In the context of this dataset, the value 35 is considerably higher than the other values, suggesting it could be an unusual observation, a measurement error, or a data point from a different distribution.\n"
          ]
        }
      ]
    },
    {
      "cell_type": "markdown",
      "source": [
        "8. You are working as a data analyst in an e-commerce company. The\n",
        "marketing team wants to know if there is a relationship between advertising spend and\n",
        "daily sales.\n",
        "\n",
        "   ● Explain how you would use covariance and correlation to explore this\n",
        "relationship.\n",
        "\n",
        "   ● Write Python code to compute the correlation between the two lists:\n",
        "\n",
        "   advertising_spend = [200, 250, 300, 400, 500]\n",
        "\n",
        "   daily_sales = [2200, 2450, 2750, 3200, 4000]"
      ],
      "metadata": {
        "id": "tJYkDfHkgmxh"
      }
    },
    {
      "cell_type": "code",
      "metadata": {
        "colab": {
          "base_uri": "https://localhost:8080/"
        },
        "id": "27e8466c",
        "outputId": "97c0f4ae-87e4-46b1-da29-81145c8e880f"
      },
      "source": [
        "import numpy as np\n",
        "\n",
        "advertising_spend = [200, 250, 300, 400, 500]\n",
        "daily_sales = [2200, 2450, 2750, 3200, 4000]\n",
        "\n",
        "array_advertising_spend = np.array(advertising_spend)\n",
        "array_daily_sales = np.array(daily_sales)\n",
        "\n",
        "correlation_coefficient = np.corrcoef(array_advertising_spend, array_daily_sales)[0, 1]\n",
        "\n",
        "print(f\"Correlation coefficient between advertising spend and daily sales: {correlation_coefficient}\")"
      ],
      "execution_count": 8,
      "outputs": [
        {
          "output_type": "stream",
          "name": "stdout",
          "text": [
            "Correlation coefficient between advertising spend and daily sales: 0.9935824101653329\n"
          ]
        }
      ]
    },
    {
      "cell_type": "markdown",
      "source": [
        "9. Your team has collected customer satisfaction survey data on a scale of\n",
        "1-10 and wants to understand its distribution before launching a new product.\n",
        "\n",
        "   - Explain which summary statistics and visualizations (e.g. mean, standard\n",
        "deviation, histogram) you’d use.\n",
        "   - Write Python code to create a histogram using Matplotlib for the survey data:\n",
        "\n",
        "     survey_scores = [7, 8, 5, 9, 6, 7, 8, 9, 10, 4, 7, 6, 9, 8, 7]\n"
      ],
      "metadata": {
        "id": "F3y1WpB1iCuA"
      }
    },
    {
      "cell_type": "markdown",
      "metadata": {
        "id": "c88ba77a"
      },
      "source": [
        "To understand the distribution of the customer satisfaction survey data, the following summary statistics and visualizations would be useful:\n",
        "\n",
        "**Summary Statistics:**\n",
        "\n",
        "*   **Mean:** The average satisfaction score. This gives a central value around which the scores are clustered.\n",
        "*   **Median:** The middle satisfaction score when the data is ordered. This is useful if there are extreme scores that might skew the mean.\n",
        "*   **Mode:** The most frequent satisfaction score. This indicates the most common level of customer satisfaction.\n",
        "*   **Standard Deviation:** A measure of the spread or dispersion of the satisfaction scores around the mean. A higher standard deviation indicates greater variability in the scores.\n",
        "*   **Minimum and Maximum:** The lowest and highest satisfaction scores. These give the range of the data.\n",
        "\n",
        "**Visualizations:**\n",
        "\n",
        "*   **Histogram:** A bar chart that shows the frequency distribution of the satisfaction scores. This allows you to visually see the shape of the distribution (e.g., is it skewed, is it bimodal?) and identify the most common score ranges.\n",
        "*   **Boxplot:** A visualization that shows the distribution of the data through quartiles. It can help identify potential outliers and the spread of the middle 50% of the data."
      ]
    },
    {
      "cell_type": "code",
      "metadata": {
        "colab": {
          "base_uri": "https://localhost:8080/",
          "height": 564
        },
        "id": "5935aac6",
        "outputId": "a29d9904-4f6d-4d1f-e1d9-2fe4a60e1d1a"
      },
      "source": [
        "import matplotlib.pyplot as plt\n",
        "\n",
        "survey_scores = [7, 8, 5, 9, 6, 7, 8, 9, 10, 4, 7, 6, 9, 8, 7]\n",
        "\n",
        "plt.figure(figsize=(8, 6))\n",
        "plt.hist(survey_scores, bins=range(4, 12), align='left', rwidth=0.8)\n",
        "plt.xticks(range(4, 11))\n",
        "plt.title('Distribution of Customer Satisfaction Survey Scores')\n",
        "plt.xlabel('Satisfaction Score (1-10)')\n",
        "plt.ylabel('Frequency')\n",
        "plt.grid(axis='y', alpha=0.75)\n",
        "plt.show()"
      ],
      "execution_count": 10,
      "outputs": [
        {
          "output_type": "display_data",
          "data": {
            "text/plain": [
              "<Figure size 800x600 with 1 Axes>"
            ],
            "image/png": "[encoded data removed]"
          },
          "metadata": {}
        }
      ]
    }
  ]
}